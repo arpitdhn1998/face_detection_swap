{
 "cells": [
  {
   "cell_type": "code",
   "execution_count": 1,
   "metadata": {},
   "outputs": [],
   "source": [
    "import cv2\n",
    "import numpy "
   ]
  },
  {
   "cell_type": "code",
   "execution_count": 2,
   "metadata": {},
   "outputs": [
    {
     "data": {
      "text/plain": [
       "(500, 500, 3)"
      ]
     },
     "execution_count": 2,
     "metadata": {},
     "output_type": "execute_result"
    }
   ],
   "source": [
    "photo=numpy.zeros((500,500,3))\n",
    "photo.shape"
   ]
  },
  {
   "cell_type": "code",
   "execution_count": 3,
   "metadata": {},
   "outputs": [],
   "source": [
    "#face\n",
    "circle=cv2.circle(photo,(250,100),(50),(200,0,0),cv2.FILLED)\n",
    "#stomach\n",
    "rectangle=cv2.rectangle(photo,(200,150),(300,300),(0,200,0),cv2.FILLED)\n",
    "#leg1\n",
    "rectangle=cv2.rectangle(photo,(210,300),(230,400),(0,120,200),cv2.FILLED)\n",
    "#legs2\n",
    "rectangle=cv2.rectangle(photo,(260,300),(280,400),(0,120,200),cv2.FILLED)\n",
    "\n"
   ]
  },
  {
   "cell_type": "code",
   "execution_count": 4,
   "metadata": {},
   "outputs": [],
   "source": [
    "cv2.imshow(\"Task 4\",photo)\n",
    "cv2.waitKey(0)\n",
    "cv2.destroyAllWindows()"
   ]
  },
  {
   "cell_type": "code",
   "execution_count": null,
   "metadata": {},
   "outputs": [],
   "source": [
    "\n"
   ]
  },
  {
   "cell_type": "code",
   "execution_count": 5,
   "metadata": {},
   "outputs": [],
   "source": [
    "#cropping an image\n",
    "crop=photo[50:150,200:305]\n",
    "cv2.imshow(\"Task 4\",crop)\n",
    "cv2.waitKey(0)\n",
    "cv2.destroyAllWindows()"
   ]
  },
  {
   "cell_type": "code",
   "execution_count": null,
   "metadata": {},
   "outputs": [],
   "source": []
  },
  {
   "cell_type": "code",
   "execution_count": 6,
   "metadata": {},
   "outputs": [
    {
     "data": {
      "text/plain": [
       "'\\n#hstack resize\\nimage = cv2.resize(crop, (500, 500), None, .25, .25)\\ncv2.imshow(\"Task 4\",image)\\ncv2.waitKey(0)\\ncv2.destroyAllWindows()\\n\\nnew_img=numpy.hstack((photo,image))\\n'"
      ]
     },
     "execution_count": 6,
     "metadata": {},
     "output_type": "execute_result"
    }
   ],
   "source": [
    "\"\"\"\n",
    "#hstack resize\n",
    "image = cv2.resize(crop, (500, 500), None, .25, .25)\n",
    "cv2.imshow(\"Task 4\",image)\n",
    "cv2.waitKey(0)\n",
    "cv2.destroyAllWindows()\n",
    "\n",
    "new_img=numpy.hstack((photo,image))\n",
    "\"\"\""
   ]
  },
  {
   "cell_type": "code",
   "execution_count": null,
   "metadata": {},
   "outputs": [],
   "source": []
  },
  {
   "cell_type": "code",
   "execution_count": 7,
   "metadata": {},
   "outputs": [],
   "source": [
    "photo2=numpy.zeros((500,500,3))\n",
    "photo2.shape\n",
    "#face2\n",
    "circle2=cv2.circle(photo2,(250,100),(50),(0,0,255),cv2.FILLED)\n",
    "#stomach\n",
    "rectangle2=cv2.rectangle(photo2,(200,150),(300,300),(0,200,0),cv2.FILLED)\n",
    "#leg1\n",
    "rectangle2=cv2.rectangle(photo2,(210,300),(230,400),(100,100,200),cv2.FILLED)\n",
    "#legs2\n",
    "rectangle2=cv2.rectangle(photo2,(260,300),(280,400),(100,100,200),cv2.FILLED)"
   ]
  },
  {
   "cell_type": "code",
   "execution_count": 8,
   "metadata": {},
   "outputs": [],
   "source": [
    "cv2.imshow(\"Task 4\",photo2)\n",
    "cv2.waitKey(0)\n",
    "cv2.destroyAllWindows()"
   ]
  },
  {
   "cell_type": "code",
   "execution_count": null,
   "metadata": {},
   "outputs": [],
   "source": []
  },
  {
   "cell_type": "code",
   "execution_count": 9,
   "metadata": {},
   "outputs": [],
   "source": [
    "new_img=numpy.hstack((photo,photo2))\n",
    "cv2.imshow(\"task\",new_img)\n",
    "cv2.waitKey(0)\n",
    "cv2.destroyAllWindows()"
   ]
  },
  {
   "cell_type": "code",
   "execution_count": null,
   "metadata": {},
   "outputs": [],
   "source": []
  },
  {
   "cell_type": "code",
   "execution_count": 10,
   "metadata": {},
   "outputs": [],
   "source": [
    "photo[50:150,200:305]=photo2[50:150,200:305]"
   ]
  },
  {
   "cell_type": "code",
   "execution_count": 11,
   "metadata": {},
   "outputs": [],
   "source": [
    "cv2.imshow(\"Task 4\",photo)\n",
    "cv2.waitKey(0)\n",
    "cv2.destroyAllWindows()"
   ]
  },
  {
   "cell_type": "code",
   "execution_count": null,
   "metadata": {},
   "outputs": [],
   "source": []
  }
 ],
 "metadata": {
  "kernelspec": {
   "display_name": "Python 3",
   "language": "python",
   "name": "python3"
  },
  "language_info": {
   "codemirror_mode": {
    "name": "ipython",
    "version": 3
   },
   "file_extension": ".py",
   "mimetype": "text/x-python",
   "name": "python",
   "nbconvert_exporter": "python",
   "pygments_lexer": "ipython3",
   "version": "3.7.4"
  }
 },
 "nbformat": 4,
 "nbformat_minor": 2
}
